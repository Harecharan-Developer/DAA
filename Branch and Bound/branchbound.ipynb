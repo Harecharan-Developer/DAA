{
 "cells": [
  {
   "cell_type": "markdown",
   "metadata": {},
   "source": [
    "## <i> 0/1 KNAPSACK USING BRANCH AND BOUND </i>"
   ]
  },
  {
   "cell_type": "code",
   "execution_count": 10,
   "metadata": {},
   "outputs": [
    {
     "name": "stdout",
     "output_type": "stream",
     "text": [
      "The maximum value for the 0/1 Knapsack problem (with Branch and Bound) is: 5\n",
      "Possible knapsacks with maximum value:\n",
      "Weights: 5, Values: 5, Items: [3]\n"
     ]
    }
   ],
   "source": [
    "def knapsack_branch_and_bound(weights, values, capacity):\n",
    "    n = len(weights)\n",
    "    max_value = [0]\n",
    "    possible_knapsack = []\n",
    "\n",
    "    def calculate_upper_bound(curr_weight, curr_value, index):\n",
    "        # Calculate the upper bound for the remaining items\n",
    "        remaining_value = curr_value\n",
    "        remaining_weight = curr_weight\n",
    "\n",
    "        for i in range(index, n):\n",
    "            remaining_value += values[i]\n",
    "            remaining_weight += weights[i]\n",
    "\n",
    "        return remaining_value if remaining_weight <= capacity else 0\n",
    "\n",
    "    def knapsack_util(curr_weight, curr_value, index, knapsack):\n",
    "        nonlocal max_value\n",
    "\n",
    "        if index == n:\n",
    "            if curr_value > max_value[0]:\n",
    "                max_value[0] = curr_value\n",
    "                possible_knapsack.clear()\n",
    "                possible_knapsack.append((curr_weight, curr_value, knapsack.copy()))\n",
    "            elif curr_value == max_value[0]:\n",
    "                possible_knapsack.append((curr_weight, curr_value, knapsack.copy()))\n",
    "            return\n",
    "\n",
    "        # Calculate upper bound to determine if further exploration is needed\n",
    "        upper_bound = calculate_upper_bound(curr_weight, curr_value, index)\n",
    "\n",
    "        if upper_bound > max_value[0]:\n",
    "            # Include the current item and explore\n",
    "            knapsack.append(index)\n",
    "            knapsack_util(curr_weight + weights[index], curr_value + values[index], index + 1, knapsack)\n",
    "            knapsack.pop()\n",
    "\n",
    "        # Exclude the current item and explore\n",
    "        knapsack_util(curr_weight, curr_value, index + 1, knapsack)\n",
    "\n",
    "    knapsack_util(0, 0, 0, [])\n",
    "    return max_value[0], possible_knapsack\n",
    "\n",
    "weights = [2, 3, 6, 5]\n",
    "values = [2, 3, 6, 5]\n",
    "capacity = 8\n",
    "\n",
    "max_value, possible_knapsacks = knapsack_branch_and_bound(weights, values, capacity)\n",
    "print(f\"The maximum value for the 0/1 Knapsack problem (with Branch and Bound) is: {max_value}\")\n",
    "print(\"Possible knapsacks with maximum value:\")\n",
    "for knapsack in possible_knapsacks:\n",
    "    print(f\"Weights: {knapsack[0]}, Values: {knapsack[1]}, Items: {knapsack[2]}\")"
   ]
  },
  {
   "cell_type": "markdown",
   "metadata": {},
   "source": [
    "## @@ TRIAL"
   ]
  },
  {
   "cell_type": "code",
   "execution_count": 12,
   "metadata": {},
   "outputs": [
    {
     "name": "stdout",
     "output_type": "stream",
     "text": [
      "Selected items: [0, 3]\n",
      "Total weight: 7\n",
      "Total value: 7\n",
      "\n"
     ]
    }
   ],
   "source": [
    "class Item:\n",
    "    def __init__(self, weight, value, index):\n",
    "        self.weight = weight\n",
    "        self.value = value\n",
    "        self.index = index\n",
    "        self.ratio = value / weight\n",
    "\n",
    "def knapsack_branch_and_bound_all(capacity, weights, values):\n",
    "    n = len(weights)\n",
    "    items = [Item(weights[i], values[i], i) for i in range(n)]\n",
    "    items.sort(key=lambda x: x.ratio, reverse=True)\n",
    "\n",
    "    def bound(i, current_weight, current_value):\n",
    "        if current_weight >= capacity:\n",
    "            return 0\n",
    "        total_value = current_value\n",
    "        total_weight = current_weight\n",
    "\n",
    "        while i < n and total_weight + items[i].weight <= capacity:\n",
    "            total_weight += items[i].weight\n",
    "            total_value += items[i].value\n",
    "            i += 1\n",
    "\n",
    "        if i < n:\n",
    "            total_value += (capacity - total_weight) * items[i].ratio\n",
    "\n",
    "        return total_value\n",
    "\n",
    "    def branch_and_bound_recursive(i, current_weight, current_value, selected_items):\n",
    "        nonlocal max_value, results\n",
    "\n",
    "        if i == n:\n",
    "            if current_value >= max_value:\n",
    "                if current_value > max_value:\n",
    "                    max_value = current_value\n",
    "                    results = []\n",
    "\n",
    "                results.append((current_weight, current_value, selected_items.copy()))\n",
    "            return\n",
    "\n",
    "        if current_weight + items[i].weight <= capacity:\n",
    "            bound_value = bound(i + 1, current_weight + items[i].weight, current_value + items[i].value)\n",
    "            if bound_value >= max_value:\n",
    "                branch_and_bound_recursive(i + 1, current_weight + items[i].weight, current_value + items[i].value, selected_items + [items[i].index])\n",
    "\n",
    "        bound_value = bound(i + 1, current_weight, current_value)\n",
    "        if bound_value >= max_value:\n",
    "            branch_and_bound_recursive(i + 1, current_weight, current_value, selected_items)\n",
    "\n",
    "    max_value = 0\n",
    "    results = []\n",
    "    branch_and_bound_recursive(0, 0, 0, [])\n",
    "\n",
    "    # Print all possible answers\n",
    "    for result in results:\n",
    "        print(\"Selected items:\", [items[i].index for i in result[2]])\n",
    "        print(\"Total weight:\", result[0])\n",
    "        print(\"Total value:\", result[1])\n",
    "        print()\n",
    "\n",
    "# Example usage:\n",
    "capacity = 8\n",
    "weights = [2, 3, 6, 5]\n",
    "values = [2, 3, 6, 5]\n",
    "\n",
    "knapsack_branch_and_bound_all(capacity, weights, values)\n"
   ]
  },
  {
   "cell_type": "code",
   "execution_count": 1,
   "metadata": {},
   "outputs": [
    {
     "name": "stdout",
     "output_type": "stream",
     "text": [
      "Job sequence: ['c', 'a', 'e']\n"
     ]
    }
   ],
   "source": [
    "from queue import PriorityQueue\n",
    "\n",
    "class Job:\n",
    "    def __init__(self, job_id, deadline, penalty):\n",
    "        self.job_id = job_id\n",
    "        self.deadline = deadline\n",
    "        self.penalty = penalty\n",
    "\n",
    "    def __lt__(self, other):\n",
    "        return self.penalty > other.penalty \n",
    "\n",
    "def job_sequencing_with_deadlines(jobs, max_deadline):\n",
    "    job_queue = PriorityQueue()\n",
    "    for job in jobs:\n",
    "        job_queue.put(job)\n",
    "\n",
    "    job_sequence = [-1] * max_deadline\n",
    "    \n",
    "    while not job_queue.empty():\n",
    "        job = job_queue.get()\n",
    "        for d in range(job.deadline - 1, -1, -1):\n",
    "            if job_sequence[d] == -1:\n",
    "                job_sequence[d] = job.job_id\n",
    "                break\n",
    "\n",
    "    return job_sequence\n",
    "\n",
    "jobs = [Job(\"a\", 2, 100), Job(\"b\", 1, 19), Job(\"c\", 2, 27), Job(\"d\", 1, 25), Job(\"e\", 3, 15)]\n",
    "max_deadline = max(job.deadline for job in jobs)\n",
    "scheduled_jobs = job_sequencing_with_deadlines(jobs, max_deadline)\n",
    "print(\"Job sequence:\", scheduled_jobs)\n"
   ]
  },
  {
   "cell_type": "code",
   "execution_count": 2,
   "metadata": {},
   "outputs": [
    {
     "name": "stdout",
     "output_type": "stream",
     "text": [
      "Job sequence: ['a', 'c', 'b']\n",
      "Total Penalty: 21\n"
     ]
    }
   ],
   "source": [
    "from queue import PriorityQueue\n",
    "\n",
    "class Job:\n",
    "    def __init__(self, job_id , penalty, deadline,  processing_time):\n",
    "        self.job_id = job_id\n",
    "        self.deadline = deadline\n",
    "        self.penalty = penalty\n",
    "        self.processing_time = processing_time\n",
    "        self.completion_time = -1  # Initialize completion time to -1\n",
    "\n",
    "    def __lt__(self, other):\n",
    "        return self.penalty > other.penalty \n",
    "\n",
    "def job_sequencing_with_deadlines(jobs, max_deadline):\n",
    "    job_queue = PriorityQueue()\n",
    "    for job in jobs:\n",
    "        job_queue.put(job)\n",
    "\n",
    "    job_sequence = [-1] * max_deadline\n",
    "    total_penalty = 0\n",
    "    current_time = 0\n",
    "    \n",
    "    while not job_queue.empty():\n",
    "        job = job_queue.get()\n",
    "        for d in range(job.deadline - 1, -1, -1):\n",
    "            if job_sequence[d] == -1:\n",
    "                job_sequence[d] = job.job_id\n",
    "                job.completion_time = current_time + job.processing_time\n",
    "                total_penalty += job.penalty\n",
    "                current_time = job.completion_time\n",
    "                break\n",
    "\n",
    "    return job_sequence, total_penalty\n",
    "\n",
    "# Example usage:\n",
    "jobs = [\n",
    "    Job(\"a\", 5,1,1),\n",
    "    Job(\"b\", 10,3,2),\n",
    "    Job(\"c\", 6,2,1),\n",
    "    Job(\"d\", 3,1,1),\n",
    "\n",
    "]\n",
    "\n",
    "max_deadline = max(job.deadline for job in jobs)\n",
    "scheduled_jobs, total_penalty = job_sequencing_with_deadlines(jobs, max_deadline)\n",
    "print(\"Job sequence:\", scheduled_jobs)\n",
    "print(\"Total Penalty:\", total_penalty)\n"
   ]
  }
 ],
 "metadata": {
  "kernelspec": {
   "display_name": "Python 3",
   "language": "python",
   "name": "python3"
  },
  "language_info": {
   "codemirror_mode": {
    "name": "ipython",
    "version": 3
   },
   "file_extension": ".py",
   "mimetype": "text/x-python",
   "name": "python",
   "nbconvert_exporter": "python",
   "pygments_lexer": "ipython3",
   "version": "3.11.7"
  }
 },
 "nbformat": 4,
 "nbformat_minor": 2
}
