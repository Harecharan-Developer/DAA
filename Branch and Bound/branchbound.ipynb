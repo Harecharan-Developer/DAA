{
 "cells": [
  {
   "cell_type": "code",
   "execution_count": 1,
   "metadata": {},
   "outputs": [
    {
     "name": "stdout",
     "output_type": "stream",
     "text": [
      "Job sequence: ['c', 'a', 'e']\n"
     ]
    }
   ],
   "source": [
    "from queue import PriorityQueue\n",
    "\n",
    "class Job:\n",
    "    def __init__(self, job_id, deadline, penalty):\n",
    "        self.job_id = job_id\n",
    "        self.deadline = deadline\n",
    "        self.penalty = penalty\n",
    "\n",
    "    def __lt__(self, other):\n",
    "        return self.penalty > other.penalty \n",
    "\n",
    "def job_sequencing_with_deadlines(jobs, max_deadline):\n",
    "    job_queue = PriorityQueue()\n",
    "    for job in jobs:\n",
    "        job_queue.put(job)\n",
    "\n",
    "    job_sequence = [-1] * max_deadline\n",
    "    \n",
    "    while not job_queue.empty():\n",
    "        job = job_queue.get()\n",
    "        for d in range(job.deadline - 1, -1, -1):\n",
    "            if job_sequence[d] == -1:\n",
    "                job_sequence[d] = job.job_id\n",
    "                break\n",
    "\n",
    "    return job_sequence\n",
    "\n",
    "jobs = [Job(\"a\", 2, 100), Job(\"b\", 1, 19), Job(\"c\", 2, 27), Job(\"d\", 1, 25), Job(\"e\", 3, 15)]\n",
    "max_deadline = max(job.deadline for job in jobs)\n",
    "scheduled_jobs = job_sequencing_with_deadlines(jobs, max_deadline)\n",
    "print(\"Job sequence:\", scheduled_jobs)\n"
   ]
  },
  {
   "cell_type": "code",
   "execution_count": 2,
   "metadata": {},
   "outputs": [
    {
     "name": "stdout",
     "output_type": "stream",
     "text": [
      "Job sequence: ['a', 'c', 'b']\n",
      "Total Penalty: 21\n"
     ]
    }
   ],
   "source": [
    "from queue import PriorityQueue\n",
    "\n",
    "class Job:\n",
    "    def __init__(self, job_id , penalty, deadline,  processing_time):\n",
    "        self.job_id = job_id\n",
    "        self.deadline = deadline\n",
    "        self.penalty = penalty\n",
    "        self.processing_time = processing_time\n",
    "        self.completion_time = -1  # Initialize completion time to -1\n",
    "\n",
    "    def __lt__(self, other):\n",
    "        return self.penalty > other.penalty \n",
    "\n",
    "def job_sequencing_with_deadlines(jobs, max_deadline):\n",
    "    job_queue = PriorityQueue()\n",
    "    for job in jobs:\n",
    "        job_queue.put(job)\n",
    "\n",
    "    job_sequence = [-1] * max_deadline\n",
    "    total_penalty = 0\n",
    "    current_time = 0\n",
    "    \n",
    "    while not job_queue.empty():\n",
    "        job = job_queue.get()\n",
    "        for d in range(job.deadline - 1, -1, -1):\n",
    "            if job_sequence[d] == -1:\n",
    "                job_sequence[d] = job.job_id\n",
    "                job.completion_time = current_time + job.processing_time\n",
    "                total_penalty += job.penalty\n",
    "                current_time = job.completion_time\n",
    "                break\n",
    "\n",
    "    return job_sequence, total_penalty\n",
    "\n",
    "# Example usage:\n",
    "jobs = [\n",
    "    Job(\"a\", 5,1,1),\n",
    "    Job(\"b\", 10,3,2),\n",
    "    Job(\"c\", 6,2,1),\n",
    "    Job(\"d\", 3,1,1),\n",
    "\n",
    "]\n",
    "\n",
    "max_deadline = max(job.deadline for job in jobs)\n",
    "scheduled_jobs, total_penalty = job_sequencing_with_deadlines(jobs, max_deadline)\n",
    "print(\"Job sequence:\", scheduled_jobs)\n",
    "print(\"Total Penalty:\", total_penalty)\n"
   ]
  }
 ],
 "metadata": {
  "kernelspec": {
   "display_name": "Python 3",
   "language": "python",
   "name": "python3"
  },
  "language_info": {
   "codemirror_mode": {
    "name": "ipython",
    "version": 3
   },
   "file_extension": ".py",
   "mimetype": "text/x-python",
   "name": "python",
   "nbconvert_exporter": "python",
   "pygments_lexer": "ipython3",
   "version": "3.11.7"
  }
 },
 "nbformat": 4,
 "nbformat_minor": 2
}
