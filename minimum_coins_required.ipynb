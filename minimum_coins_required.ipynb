{
 "cells": [
  {
   "cell_type": "code",
   "execution_count": 14,
   "metadata": {},
   "outputs": [
    {
     "name": "stdout",
     "output_type": "stream",
     "text": [
      "2\n",
      "\n"
     ]
    }
   ],
   "source": [
    "def minimum_coins_required(currency_list, total):\n",
    "    currency_list.sort(reverse=True)\n",
    "    dp = [float('inf')] * (total + 1)\n",
    "    dp[0] = 0\n",
    "\n",
    "    for i in range(1, total + 1):\n",
    "        for coin in currency_list:\n",
    "            if i >= coin:\n",
    "                dp[i] = min(dp[i], dp[i - coin] + 1)\n",
    "\n",
    "    return dp[total] if dp[total] != float('inf') else -1\n",
    "print(minimum_coins_required([1,15,25],30))\n",
    "print()"
   ]
  },
  {
   "cell_type": "code",
   "execution_count": 10,
   "metadata": {},
   "outputs": [
    {
     "name": "stdout",
     "output_type": "stream",
     "text": [
      "{25: 2, 10: 1, 5: 0, 1: 3}\n",
      "6\n"
     ]
    }
   ],
   "source": [
    "def greedy_coin_change(coins, amount):\n",
    "    coins.sort(reverse=True)\n",
    "    coin_count = {}\n",
    "    for coin in coins:\n",
    "        coin_count[coin] = 0\n",
    "\n",
    "    total_coins = 0\n",
    "    for coin in coins:\n",
    "        while amount >= coin:\n",
    "            amount -= coin\n",
    "            coin_count[coin] += 1\n",
    "            total_coins += 1\n",
    "    if amount > 0:\n",
    "        return \"Cannot make exact change.\"\n",
    "    \n",
    "    return coin_count, total_coins\n",
    "\n",
    "coins = [25, 10, 5, 1]  \n",
    "amount = 63             \n",
    "result, total_coins = greedy_coin_change(coins, amount)\n",
    "print(result)\n",
    "print (total_coins)\n"
   ]
  },
  {
   "cell_type": "code",
   "execution_count": null,
   "metadata": {},
   "outputs": [],
   "source": []
  }
 ],
 "metadata": {
  "kernelspec": {
   "display_name": "base",
   "language": "python",
   "name": "python3"
  },
  "language_info": {
   "codemirror_mode": {
    "name": "ipython",
    "version": 3
   },
   "file_extension": ".py",
   "mimetype": "text/x-python",
   "name": "python",
   "nbconvert_exporter": "python",
   "pygments_lexer": "ipython3",
   "version": "3.11.3"
  },
  "orig_nbformat": 4
 },
 "nbformat": 4,
 "nbformat_minor": 2
}
