{
 "cells": [
  {
   "cell_type": "markdown",
   "metadata": {},
   "source": [
    "<b><h1>MIDTERM PRACTICE</h1></b>\n",
    "<i><h3>This contains some\n",
    " algorithms that I practised for my midterms </h3></i>"
   ]
  },
  {
   "cell_type": "markdown",
   "metadata": {},
   "source": [
    "<h2>Sorting Algorithms</h2>"
   ]
  },
  {
   "cell_type": "markdown",
   "metadata": {},
   "source": [
    "<h5>Bubble sort</h5>"
   ]
  },
  {
   "cell_type": "code",
   "execution_count": 7,
   "metadata": {},
   "outputs": [
    {
     "name": "stdout",
     "output_type": "stream",
     "text": [
      "[4, 5, 6, 7, 8]\n"
     ]
    }
   ],
   "source": [
    "# 8 7 6 5 4\n",
    "def bubble_sort(l1):\n",
    "    for i in range(len(l1)):\n",
    "        for j in range (1,len(l1)-i):\n",
    "            if l1[j]<l1[j-1]:\n",
    "                l1[j],l1[j-1]=l1[j-1],l1[j]\n",
    "    return l1\n",
    "print(bubble_sort([8,7,6,5,4]))\n",
    "    "
   ]
  },
  {
   "cell_type": "markdown",
   "metadata": {},
   "source": [
    "<h5>My own Sort</h5>"
   ]
  },
  {
   "cell_type": "code",
   "execution_count": 8,
   "metadata": {},
   "outputs": [
    {
     "name": "stdout",
     "output_type": "stream",
     "text": [
      "[4, 5, 6, 7, 8, 9]\n"
     ]
    }
   ],
   "source": [
    "# 8 7  6 5 4  9\n",
    "def insertion_sort(l):\n",
    "    for i in range (len(l)):\n",
    "        for j in range(len(l)-i):\n",
    "            if l[j]>l[i]:\n",
    "                l[j-1],l[i]=l[i],l[j-1]\n",
    "    return l\n",
    "print(insertion_sort([8,7,6,5,4,9]))"
   ]
  },
  {
   "cell_type": "markdown",
   "metadata": {},
   "source": [
    "<H4>Selection Sort</h4>"
   ]
  },
  {
   "cell_type": "code",
   "execution_count": 19,
   "metadata": {},
   "outputs": [
    {
     "name": "stdout",
     "output_type": "stream",
     "text": [
      "Sorted list is: [17, 26, 31, 54, 77, 93]\n"
     ]
    }
   ],
   "source": [
    "def selection_sort(l):\n",
    "    for i in range(len(l) - 1):\n",
    "        min_index = i  # Initialize the index of the minimum element\n",
    "        for j in range(i, len(l)):\n",
    "            if l[j] < l[min_index]:  # Compare with the current minimum\n",
    "                min_index = j  # Update the index of the minimum element\n",
    "        l[i], l[min_index] = l[min_index], l[i]  # Swap the elements\n",
    "    return l\n",
    "\n",
    "print(\"Sorted list is:\", selection_sort([54, 26, 93, 17, 77, 31]))\n"
   ]
  },
  {
   "cell_type": "markdown",
   "metadata": {},
   "source": [
    "<h5>Quick Sort</h5>"
   ]
  },
  {
   "cell_type": "code",
   "execution_count": 14,
   "metadata": {},
   "outputs": [
    {
     "name": "stdout",
     "output_type": "stream",
     "text": [
      "[1, 2, 3, 4, 5, 5, 5, 6, 7, 8]\n"
     ]
    }
   ],
   "source": [
    "def quicksort(l):\n",
    "    if len(l) <= 1:\n",
    "        return l\n",
    "\n",
    "    pivot = l[len(l) - 1]\n",
    "    left_subarray = []\n",
    "    right_subarray = []\n",
    "\n",
    "    for i in range(len(l) - 1):\n",
    "        if l[i] <= pivot:\n",
    "            left_subarray.append(l[i])\n",
    "        else:\n",
    "            right_subarray.append(l[i])\n",
    "\n",
    "    sorted_left = quicksort(left_subarray)\n",
    "    sorted_right = quicksort(right_subarray)\n",
    "\n",
    "    return sorted_left + [pivot] + sorted_right\n",
    "\n",
    "result = quicksort([8, 7, 6, 5, 4, 3, 2, 1, 5, 5])\n",
    "print(result)\n"
   ]
  },
  {
   "cell_type": "markdown",
   "metadata": {},
   "source": [
    "<h4>Merge sort</h4>"
   ]
  },
  {
   "cell_type": "code",
   "execution_count": 17,
   "metadata": {},
   "outputs": [
    {
     "name": "stdout",
     "output_type": "stream",
     "text": [
      "[1, 2, 3, 4, 5, 5, 5, 6, 7, 8]\n"
     ]
    }
   ],
   "source": [
    "def merge_sort(l):\n",
    "    if len(l) <= 1:\n",
    "        return l\n",
    "\n",
    "    mid = len(l) // 2\n",
    "    left = merge_sort(l[:mid])\n",
    "    right = merge_sort(l[mid:])\n",
    "\n",
    "    return merge(left, right)\n",
    "\n",
    "def merge(left, right):\n",
    "    result = []\n",
    "    i = 0\n",
    "    j = 0\n",
    "\n",
    "    while i < len(left) and j < len(right):\n",
    "        if left[i] < right[j]:\n",
    "            result.append(left[i])\n",
    "            i += 1\n",
    "        else:\n",
    "            result.append(right[j])\n",
    "            j += 1\n",
    "\n",
    "    result.extend(left[i:])\n",
    "    result.extend(right[j:])\n",
    "    return result\n",
    "\n",
    "# Example usage:\n",
    "result = merge_sort([8, 7, 6, 5, 4, 3, 2, 1, 5, 5])\n",
    "print(result)"
   ]
  },
  {
   "cell_type": "code",
   "execution_count": 22,
   "metadata": {},
   "outputs": [
    {
     "name": "stdout",
     "output_type": "stream",
     "text": [
      "[7, 8, 4, 10, 9, 6]\n"
     ]
    }
   ],
   "source": [
    "def sort(l):\n",
    "    for i in range (len(l)):\n",
    "        for j in range(len(l)-i):\n",
    "            if l[j]>l[i]:\n",
    "                l[j-1],l[i]=l[i],l[j-1]\n",
    "    return l\n",
    "print(sort([8,7,6,10,4,9]))"
   ]
  },
  {
   "cell_type": "code",
   "execution_count": 2,
   "metadata": {},
   "outputs": [
    {
     "name": "stdout",
     "output_type": "stream",
     "text": [
      "Strongly Connected Components:\n",
      "[0, 2, 1]\n",
      "[3]\n",
      "[4]\n"
     ]
    }
   ],
   "source": [
    "\n",
    "from collections import defaultdict\n",
    "\n",
    "class Graph:\n",
    "    def __init__(self, vertices):\n",
    "        self.graph = defaultdict(list)\n",
    "        self.V = vertices\n",
    "\n",
    "    def add_edge(self, u, v):\n",
    "        self.graph[u].append(v)\n",
    "\n",
    "    def fill_order(self, v, visited, stack):\n",
    "        visited[v] = True\n",
    "        for i in self.graph[v]:\n",
    "            if not visited[i]:\n",
    "                self.fill_order(i, visited, stack)\n",
    "        stack.append(v)\n",
    "\n",
    "    def transpose(self):\n",
    "        g = Graph(self.V)\n",
    "        for i in self.graph:\n",
    "            for j in self.graph[i]:\n",
    "                g.add_edge(j, i)\n",
    "        return g\n",
    "\n",
    "    def DFS(self, v, visited, scc):\n",
    "        visited[v] = True\n",
    "        scc.append(v)\n",
    "        for i in self.graph[v]:\n",
    "            if not visited[i]:\n",
    "                self.DFS(i, visited, scc)\n",
    "\n",
    "    def strongly_connected_components(self):\n",
    "        stack = []\n",
    "        visited = [False] * self.V\n",
    "        for i in range(self.V):\n",
    "            if not visited[i]:\n",
    "                self.fill_order(i, visited, stack)\n",
    "\n",
    "        reversed_graph = self.transpose()\n",
    "\n",
    "        visited = [False] * self.V\n",
    "        strongly_connected_components = []\n",
    "\n",
    "        while stack:\n",
    "            v = stack.pop()\n",
    "            if not visited[v]:\n",
    "                scc = []\n",
    "                reversed_graph.DFS(v, visited, scc)\n",
    "                strongly_connected_components.append(scc)\n",
    "\n",
    "        return strongly_connected_components\n",
    "\n",
    "# Example usage:\n",
    "g = Graph(5)\n",
    "g.add_edge(0, 1)\n",
    "g.add_edge(1, 2)\n",
    "g.add_edge(2, 0)\n",
    "g.add_edge(1, 3)\n",
    "g.add_edge(3, 4)\n",
    "\n",
    "scc = g.strongly_connected_components()\n",
    "print(\"Strongly Connected Components:\")\n",
    "for component in scc:\n",
    "    print(component)\n"
   ]
  },
  {
   "cell_type": "markdown",
   "metadata": {},
   "source": [
    "<h1>GRAPHS ALGORITHM</h1>"
   ]
  },
  {
   "cell_type": "markdown",
   "metadata": {},
   "source": [
    "Find articulation points"
   ]
  },
  {
   "cell_type": "code",
   "execution_count": 1,
   "metadata": {},
   "outputs": [
    {
     "name": "stdout",
     "output_type": "stream",
     "text": [
      "\n",
      "Articulation points in first graph \n",
      "0 3 \n",
      "Articulation points in second graph \n",
      "1 2 \n",
      "Articulation points in third graph \n",
      "1 3 "
     ]
    }
   ],
   "source": [
    "# Python program to find articulation points in an undirected graph\n",
    "\n",
    "from collections import defaultdict\n",
    "\n",
    "class Graph:\n",
    "\n",
    "\tdef __init__(self, vertices):\n",
    "\t\tself.V = vertices \n",
    "\t\tself.graph = defaultdict(list) \n",
    "\t\tself.Time = 0\n",
    "\n",
    "\tdef addEdge(self, u, v):\n",
    "\t\tself.graph[u].append(v)\n",
    "\n",
    "\tdef APUtil(self, u, visited, ap, parent, low, disc):\n",
    "\n",
    "\t\tchildren = 0\n",
    "\n",
    "\t\tvisited[u]= True\n",
    "\n",
    "\t\tdisc[u] = self.Time\n",
    "\t\tlow[u] = self.Time\n",
    "\t\tself.Time += 1\n",
    "\n",
    "\t\tfor v in self.graph[u]:\n",
    "\t\t\tif visited[v] == False :\n",
    "\t\t\t\tparent[v] = u\n",
    "\t\t\t\tchildren += 1\n",
    "\t\t\t\tself.APUtil(v, visited, ap, parent, low, disc)\n",
    "\n",
    "\t\t\t\tlow[u] = min(low[u], low[v])\n",
    "\n",
    "\t\t\t\tif parent[u] == -1 and children > 1:\n",
    "\t\t\t\t\tap[u] = True\n",
    "\n",
    "\t\t\t\tif parent[u] != -1 and low[v] >= disc[u]:\n",
    "\t\t\t\t\tap[u] = True\n",
    "\t\t\t\t\t\n",
    "\t\t\telif v != parent[u]: \n",
    "\t\t\t\tlow[u] = min(low[u], disc[v])\n",
    "\n",
    "\n",
    "\tdef AP(self):\n",
    "\n",
    "\t\tvisited = [False] * (self.V)\n",
    "\t\tdisc = [float(\"Inf\")] * (self.V)\n",
    "\t\tlow = [float(\"Inf\")] * (self.V)\n",
    "\t\tparent = [-1] * (self.V)\n",
    "\t\tap = [False] * (self.V) \n",
    "\n",
    "\n",
    "\t\tfor i in range(self.V):\n",
    "\t\t\tif visited[i] == False:\n",
    "\t\t\t\tself.APUtil(i, visited, ap, parent, low, disc)\n",
    "\n",
    "\t\tfor index, value in enumerate (ap):\n",
    "\t\t\tif value == True: print (index,end=\" \")\n",
    "\n",
    "# Create a graph given in the above diagram\n",
    "g1 = Graph(5)\n",
    "g1.addEdge(1, 0)\n",
    "g1.addEdge(0, 2)\n",
    "g1.addEdge(2, 1)\n",
    "g1.addEdge(0, 3)\n",
    "g1.addEdge(3, 4)\n",
    "\n",
    "print (\"\\nArticulation points in first graph \")\n",
    "g1.AP()\n",
    "\n",
    "g2 = Graph(4)\n",
    "g2.addEdge(0, 1)\n",
    "g2.addEdge(1, 2)\n",
    "g2.addEdge(2, 3)\n",
    "print (\"\\nArticulation points in second graph \")\n",
    "g2.AP()\n",
    "\n",
    "\n",
    "g3 = Graph (7)\n",
    "g3.addEdge(0, 1)\n",
    "g3.addEdge(1, 2)\n",
    "g3.addEdge(2, 0)\n",
    "g3.addEdge(1, 3)\n",
    "g3.addEdge(1, 4)\n",
    "g3.addEdge(1, 6)\n",
    "g3.addEdge(3, 5)\n",
    "g3.addEdge(4, 5)\n",
    "print (\"\\nArticulation points in third graph \")\n",
    "g3.AP()\n",
    "\n",
    "# This code is contributed by Neelam Yadav\n"
   ]
  }
 ],
 "metadata": {
  "kernelspec": {
   "display_name": "base",
   "language": "python",
   "name": "python3"
  },
  "language_info": {
   "codemirror_mode": {
    "name": "ipython",
    "version": 3
   },
   "file_extension": ".py",
   "mimetype": "text/x-python",
   "name": "python",
   "nbconvert_exporter": "python",
   "pygments_lexer": "ipython3",
   "version": "3.11.3"
  },
  "orig_nbformat": 4
 },
 "nbformat": 4,
 "nbformat_minor": 2
}
