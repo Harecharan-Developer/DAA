{
 "cells": [
  {
   "cell_type": "markdown",
   "metadata": {},
   "source": [
    "<b><h1>MIDTERM PRACTICE</h1></b>\n",
    "<i><h3>This contains all algorithms that I practised for my midterms </h3></i>"
   ]
  },
  {
   "cell_type": "markdown",
   "metadata": {},
   "source": [
    "<h2>Sorting Algorithms</h2>"
   ]
  },
  {
   "cell_type": "markdown",
   "metadata": {},
   "source": [
    "<h5>Bubble sort</h5>"
   ]
  },
  {
   "cell_type": "code",
   "execution_count": 7,
   "metadata": {},
   "outputs": [
    {
     "name": "stdout",
     "output_type": "stream",
     "text": [
      "[4, 5, 6, 7, 8]\n"
     ]
    }
   ],
   "source": [
    "# 8 7 6 5 4\n",
    "def bubble_sort(l1):\n",
    "    for i in range(len(l1)):\n",
    "        for j in range (1,len(l1)-i):\n",
    "            if l1[j]<l1[j-1]:\n",
    "                l1[j],l1[j-1]=l1[j-1],l1[j]\n",
    "    return l1\n",
    "print(bubble_sort([8,7,6,5,4]))\n",
    "    "
   ]
  },
  {
   "cell_type": "markdown",
   "metadata": {},
   "source": [
    "<h5>My own Sort</h5>"
   ]
  },
  {
   "cell_type": "code",
   "execution_count": 8,
   "metadata": {},
   "outputs": [
    {
     "name": "stdout",
     "output_type": "stream",
     "text": [
      "[4, 5, 6, 7, 8, 9]\n"
     ]
    }
   ],
   "source": [
    "# 8 7  6 5 4  9\n",
    "def insertion_sort(l):\n",
    "    for i in range (len(l)):\n",
    "        for j in range(len(l)-i):\n",
    "            if l[j]>l[i]:\n",
    "                l[j-1],l[i]=l[i],l[j-1]\n",
    "    return l\n",
    "print(insertion_sort([8,7,6,5,4,9]))"
   ]
  },
  {
   "cell_type": "markdown",
   "metadata": {},
   "source": [
    "<H4>Selection Sort</h4>"
   ]
  },
  {
   "cell_type": "code",
   "execution_count": 19,
   "metadata": {},
   "outputs": [
    {
     "name": "stdout",
     "output_type": "stream",
     "text": [
      "Sorted list is: [17, 26, 31, 54, 77, 93]\n"
     ]
    }
   ],
   "source": [
    "def selection_sort(l):\n",
    "    for i in range(len(l) - 1):\n",
    "        min_index = i  # Initialize the index of the minimum element\n",
    "        for j in range(i, len(l)):\n",
    "            if l[j] < l[min_index]:  # Compare with the current minimum\n",
    "                min_index = j  # Update the index of the minimum element\n",
    "        l[i], l[min_index] = l[min_index], l[i]  # Swap the elements\n",
    "    return l\n",
    "\n",
    "print(\"Sorted list is:\", selection_sort([54, 26, 93, 17, 77, 31]))\n"
   ]
  },
  {
   "cell_type": "markdown",
   "metadata": {},
   "source": [
    "<h5>Quick Sort</h5>"
   ]
  },
  {
   "cell_type": "code",
   "execution_count": 14,
   "metadata": {},
   "outputs": [
    {
     "name": "stdout",
     "output_type": "stream",
     "text": [
      "[1, 2, 3, 4, 5, 5, 5, 6, 7, 8]\n"
     ]
    }
   ],
   "source": [
    "def quicksort(l):\n",
    "    if len(l) <= 1:\n",
    "        return l\n",
    "\n",
    "    pivot = l[len(l) - 1]\n",
    "    left_subarray = []\n",
    "    right_subarray = []\n",
    "\n",
    "    for i in range(len(l) - 1):\n",
    "        if l[i] <= pivot:\n",
    "            left_subarray.append(l[i])\n",
    "        else:\n",
    "            right_subarray.append(l[i])\n",
    "\n",
    "    sorted_left = quicksort(left_subarray)\n",
    "    sorted_right = quicksort(right_subarray)\n",
    "\n",
    "    return sorted_left + [pivot] + sorted_right\n",
    "\n",
    "result = quicksort([8, 7, 6, 5, 4, 3, 2, 1, 5, 5])\n",
    "print(result)\n"
   ]
  },
  {
   "cell_type": "markdown",
   "metadata": {},
   "source": [
    "<h4>Merge sort</h4>"
   ]
  },
  {
   "cell_type": "code",
   "execution_count": 17,
   "metadata": {},
   "outputs": [
    {
     "name": "stdout",
     "output_type": "stream",
     "text": [
      "[1, 2, 3, 4, 5, 5, 5, 6, 7, 8]\n"
     ]
    }
   ],
   "source": [
    "def merge_sort(l):\n",
    "    if len(l) <= 1:\n",
    "        return l\n",
    "\n",
    "    mid = len(l) // 2\n",
    "    left = merge_sort(l[:mid])\n",
    "    right = merge_sort(l[mid:])\n",
    "\n",
    "    return merge(left, right)\n",
    "\n",
    "def merge(left, right):\n",
    "    result = []\n",
    "    i = 0\n",
    "    j = 0\n",
    "\n",
    "    while i < len(left) and j < len(right):\n",
    "        if left[i] < right[j]:\n",
    "            result.append(left[i])\n",
    "            i += 1\n",
    "        else:\n",
    "            result.append(right[j])\n",
    "            j += 1\n",
    "\n",
    "    result.extend(left[i:])\n",
    "    result.extend(right[j:])\n",
    "    return result\n",
    "\n",
    "# Example usage:\n",
    "result = merge_sort([8, 7, 6, 5, 4, 3, 2, 1, 5, 5])\n",
    "print(result)"
   ]
  },
  {
   "cell_type": "code",
   "execution_count": 22,
   "metadata": {},
   "outputs": [
    {
     "name": "stdout",
     "output_type": "stream",
     "text": [
      "[7, 8, 4, 10, 9, 6]\n"
     ]
    }
   ],
   "source": [
    "def sort(l):\n",
    "    for i in range (len(l)):\n",
    "        for j in range(len(l)-i):\n",
    "            if l[j]>l[i]:\n",
    "                l[j-1],l[i]=l[i],l[j-1]\n",
    "    return l\n",
    "print(sort([8,7,6,10,4,9]))"
   ]
  },
  {
   "cell_type": "code",
   "execution_count": 1,
   "metadata": {},
   "outputs": [
    {
     "name": "stdout",
     "output_type": "stream",
     "text": [
      "Strongly Connected Components:\n",
      "[0, 2, 1]\n",
      "[3]\n",
      "[4]\n"
     ]
    }
   ],
   "source": [
    "\n",
    "from collections import defaultdict\n",
    "\n",
    "class Graph:\n",
    "    def __init__(self, vertices):\n",
    "        self.graph = defaultdict(list)\n",
    "        self.V = vertices\n",
    "\n",
    "    def add_edge(self, u, v):\n",
    "        self.graph[u].append(v)\n",
    "\n",
    "    def fill_order(self, v, visited, stack):\n",
    "        visited[v] = True\n",
    "        for i in self.graph[v]:\n",
    "            if not visited[i]:\n",
    "                self.fill_order(i, visited, stack)\n",
    "        stack.append(v)\n",
    "\n",
    "    def transpose(self):\n",
    "        g = Graph(self.V)\n",
    "        for i in self.graph:\n",
    "            for j in self.graph[i]:\n",
    "                g.add_edge(j, i)\n",
    "        return g\n",
    "\n",
    "    def DFS(self, v, visited, scc):\n",
    "        visited[v] = True\n",
    "        scc.append(v)\n",
    "        for i in self.graph[v]:\n",
    "            if not visited[i]:\n",
    "                self.DFS(i, visited, scc)\n",
    "\n",
    "    def strongly_connected_components(self):\n",
    "        stack = []\n",
    "        visited = [False] * self.V\n",
    "        for i in range(self.V):\n",
    "            if not visited[i]:\n",
    "                self.fill_order(i, visited, stack)\n",
    "\n",
    "        reversed_graph = self.transpose()\n",
    "\n",
    "        visited = [False] * self.V\n",
    "        strongly_connected_components = []\n",
    "\n",
    "        while stack:\n",
    "            v = stack.pop()\n",
    "            if not visited[v]:\n",
    "                scc = []\n",
    "                reversed_graph.DFS(v, visited, scc)\n",
    "                strongly_connected_components.append(scc)\n",
    "\n",
    "        return strongly_connected_components\n",
    "\n",
    "# Example usage:\n",
    "g = Graph(5)\n",
    "g.add_edge(0, 1)\n",
    "g.add_edge(1, 2)\n",
    "g.add_edge(2, 0)\n",
    "g.add_edge(1, 3)\n",
    "g.add_edge(3, 4)\n",
    "\n",
    "scc = g.strongly_connected_components()\n",
    "print(\"Strongly Connected Components:\")\n",
    "for component in scc:\n",
    "    print(component)\n"
   ]
  }
 ],
 "metadata": {
  "kernelspec": {
   "display_name": "base",
   "language": "python",
   "name": "python3"
  },
  "language_info": {
   "codemirror_mode": {
    "name": "ipython",
    "version": 3
   },
   "file_extension": ".py",
   "mimetype": "text/x-python",
   "name": "python",
   "nbconvert_exporter": "python",
   "pygments_lexer": "ipython3",
   "version": "3.11.3"
  },
  "orig_nbformat": 4
 },
 "nbformat": 4,
 "nbformat_minor": 2
}
