{
 "cells": [
  {
   "cell_type": "markdown",
   "metadata": {},
   "source": [
    "Greedy Best First Search"
   ]
  },
  {
   "cell_type": "code",
   "execution_count": 7,
   "metadata": {},
   "outputs": [
    {
     "name": "stdout",
     "output_type": "stream",
     "text": [
      "['a', 'c', 'f', 'g']\n",
      "['a', 'c', 'f', 'g']\n"
     ]
    }
   ],
   "source": [
    "class Graph:\n",
    "    def __init__(self):\n",
    "        self.graph = {}\n",
    "        self.heuristics = {}\n",
    "\n",
    "    def add_edge(self, u, v, w):\n",
    "        if u not in self.graph:\n",
    "            self.graph[u] = []\n",
    "        if v not in self.graph:\n",
    "            self.graph[v] = []\n",
    "        self.graph[u].append((v, w))\n",
    "        self.graph[v].append((u, w))\n",
    "\n",
    "    def add_heuristics(self, u, heuristic_value):\n",
    "        self.heuristics[u] = heuristic_value\n",
    "\n",
    "    def greedy_best_first_search(self, start, goal):\n",
    "        open = [(start, [start])]  # Use a list of tuples (node, path)\n",
    "        while open:\n",
    "            node, path = open.pop(0)\n",
    "            if node == goal:\n",
    "                return path\n",
    "            for neighbor, _ in sorted(self.graph[node], key=lambda x: self.heuristics[x[0]]):\n",
    "                if neighbor not in path:\n",
    "                    open.append((neighbor, path + [neighbor]))\n",
    "        print(\"Path not found\")\n",
    "        return None\n",
    "\n",
    "graph=Graph()\n",
    "graph.add_edge('a','b',11)\n",
    "graph.add_edge('a','d',7)\n",
    "graph.add_edge('a','c',14)\n",
    "graph.add_edge('d','f',25)\n",
    "graph.add_edge('b','e',15)\n",
    "graph.add_edge('c','e',8)\n",
    "graph.add_edge('c','f',10)\n",
    "graph.add_edge('e','h',9)\n",
    "graph.add_edge('h','g',10)\n",
    "graph.add_edge('f','g',20)\n",
    "\n",
    "graph.add_heuristics('a',40)\n",
    "graph.add_heuristics('b',35)\n",
    "graph.add_heuristics('c',67)\n",
    "graph.add_heuristics('d',89)\n",
    "graph.add_heuristics('e',10)\n",
    "graph.add_heuristics('f',17)\n",
    "graph.add_heuristics('g',0) \n",
    "graph.add_heuristics('h',10)\n",
    "\n",
    "x=graph.greedy_best_first_search('a','g')\n",
    "print(x)\n"
   ]
  },
  {
   "cell_type": "markdown",
   "metadata": {},
   "source": [
    " Best First"
   ]
  },
  {
   "cell_type": "code",
   "execution_count": 12,
   "metadata": {},
   "outputs": [
    {
     "name": "stdout",
     "output_type": "stream",
     "text": [
      "(41, ['a', 'c', 'e', 'h', 'g'])\n"
     ]
    }
   ],
   "source": [
    "class Graph:\n",
    "    def __init__(self):\n",
    "        self.graph = {}\n",
    "        self.heuristics = {}\n",
    "\n",
    "    def add_edge(self, u, v, w):\n",
    "        if u not in self.graph:\n",
    "            self.graph[u] = []\n",
    "        if v not in self.graph:\n",
    "            self.graph[v] = []\n",
    "        self.graph[u].append((v, w))\n",
    "        self.graph[v].append((u, w))\n",
    "\n",
    "    def add_heuristics(self, u, heuristic_value):\n",
    "        self.heuristics[u] = heuristic_value\n",
    "        \n",
    "    # def best_first_search(self,start,goal):\n",
    "    #     open=[(start,self.graph[start],[start])]\n",
    "    #     while open:\n",
    "    #         node,cumulative,path=open.pop(0)\n",
    "    #         temp=[]\n",
    "    #         if node==path:\n",
    "    #             return cumulative,path\n",
    "    #         for neighbor in self.graph[node]:\n",
    "    #             if neighbor not in path:\n",
    "    #                 temp.append((neighbor,self.graph[neighbor]+cumulative,path.append(neighbor)))\n",
    "    #         temp.sort(key=lambda x: x[1])\n",
    "    #         open.insert(lambda x: x in temp)\n",
    "    #     return None\n",
    "    # def best_first_search(self, start, goal):\n",
    "    #     open = [(start, 0, [start])]  # (node, cumulative cost, path)\n",
    "    #     while open:\n",
    "    #         node, cumulative, path = open.pop(0)\n",
    "    #         if node == goal:\n",
    "    #             return cumulative, path\n",
    "    #         for neighbor, weight in self.graph[node]:\n",
    "    #             if neighbor not in path:\n",
    "    #                 temp = list(path)  # Create a new path list\n",
    "    #                 temp.append(neighbor)\n",
    "    #                 open.append((neighbor, cumulative + weight, temp))\n",
    "    #         open.sort(key=lambda x: x[1])\n",
    "    #     return None\n",
    "    def best_first_search(self, start, goal):\n",
    "        open = [(start, 0, [start])]  # (node, cumulative cost, path)\n",
    "        while open:\n",
    "            node, cumulative, path = open.pop(0)\n",
    "            if node == goal:\n",
    "                return cumulative, path\n",
    "            for neighbor, weight in self.graph[node]:\n",
    "                if neighbor not in path:\n",
    "                    temp = list(path)  # Create a new path list\n",
    "                    temp.append(neighbor)\n",
    "                    open.append((neighbor, cumulative + weight, temp))\n",
    "            open.sort(key=lambda x: x[1])\n",
    "        return None\n",
    "graph=Graph()\n",
    "graph.add_edge('a','b',11)\n",
    "graph.add_edge('a','d',7)\n",
    "graph.add_edge('a','c',14)\n",
    "graph.add_edge('d','f',25)\n",
    "graph.add_edge('b','e',15)\n",
    "graph.add_edge('c','e',8)\n",
    "graph.add_edge('c','f',10)\n",
    "graph.add_edge('e','h',9)\n",
    "graph.add_edge('h','g',10)\n",
    "graph.add_edge('f','g',20)\n",
    "\n",
    "graph.add_heuristics('a',40)\n",
    "graph.add_heuristics('b',35)\n",
    "graph.add_heuristics('c',67)\n",
    "graph.add_heuristics('d',89)\n",
    "graph.add_heuristics('e',10)\n",
    "graph.add_heuristics('f',17)\n",
    "graph.add_heuristics('g',0) \n",
    "graph.add_heuristics('h',10)\n",
    "\n",
    "print(graph.best_first_search('a','g'))"
   ]
  },
  {
   "cell_type": "code",
   "execution_count": null,
   "metadata": {},
   "outputs": [],
   "source": []
  }
 ],
 "metadata": {
  "kernelspec": {
   "display_name": "base",
   "language": "python",
   "name": "python3"
  },
  "language_info": {
   "codemirror_mode": {
    "name": "ipython",
    "version": 3
   },
   "file_extension": ".py",
   "mimetype": "text/x-python",
   "name": "python",
   "nbconvert_exporter": "python",
   "pygments_lexer": "ipython3",
   "version": "3.11.3"
  }
 },
 "nbformat": 4,
 "nbformat_minor": 2
}
