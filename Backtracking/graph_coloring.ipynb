{
 "cells": [
  {
   "cell_type": "code",
   "execution_count": 9,
   "metadata": {},
   "outputs": [
    {
     "name": "stdout",
     "output_type": "stream",
     "text": [
      "Graph coloring solution:\n",
      "Vertex 0: Color Red\n",
      "Vertex 1: Color Green\n",
      "Vertex 2: Color Blue\n",
      "Vertex 3: Color Red\n",
      "\n",
      "Graph coloring solution:\n",
      "Vertex 0: Color Red\n",
      "Vertex 1: Color Blue\n",
      "Vertex 2: Color Green\n",
      "Vertex 3: Color Red\n",
      "\n",
      "Graph coloring solution:\n",
      "Vertex 0: Color Green\n",
      "Vertex 1: Color Red\n",
      "Vertex 2: Color Blue\n",
      "Vertex 3: Color Green\n",
      "\n",
      "Graph coloring solution:\n",
      "Vertex 0: Color Green\n",
      "Vertex 1: Color Blue\n",
      "Vertex 2: Color Red\n",
      "Vertex 3: Color Green\n",
      "\n",
      "Graph coloring solution:\n",
      "Vertex 0: Color Blue\n",
      "Vertex 1: Color Red\n",
      "Vertex 2: Color Green\n",
      "Vertex 3: Color Blue\n",
      "\n",
      "Graph coloring solution:\n",
      "Vertex 0: Color Blue\n",
      "Vertex 1: Color Green\n",
      "Vertex 2: Color Red\n",
      "Vertex 3: Color Blue\n",
      "\n"
     ]
    }
   ],
   "source": [
    "def graph_coloring_backtracking(graph, colors):\n",
    "    coloring = [None] * len(graph)\n",
    "    solutions = []\n",
    "    color_vertex(0, graph, colors, coloring, solutions)\n",
    "    return solutions\n",
    "\n",
    "def color_vertex(vertex, graph, colors, coloring, solutions):\n",
    "    if vertex == len(graph):\n",
    "        solutions.append(coloring.copy())\n",
    "    else:\n",
    "        for color in colors:\n",
    "            if is_valid_color(vertex, color, graph, coloring):\n",
    "                coloring[vertex] = color\n",
    "                color_vertex(vertex + 1, graph, colors, coloring, solutions)\n",
    "                coloring[vertex] = None\n",
    "\n",
    "def is_valid_color(vertex, color, graph, coloring):\n",
    "    for neighbor in graph[vertex]:\n",
    "        if coloring[neighbor] == color:\n",
    "            return False\n",
    "    return True\n",
    "\n",
    "graph = [[1, 2], [0, 2, 3], [0, 1, 3], [1, 2]]\n",
    "colors = ['Red', 'Green', 'Blue']\n",
    "solutions = graph_coloring_backtracking(graph, colors)\n",
    "for solution in solutions:\n",
    "    print(\"Graph coloring solution:\")\n",
    "    for vertex, color in enumerate(solution):\n",
    "        print(f\"Vertex {vertex}: Color {color}\")\n",
    "    print()\n"
   ]
  }
 ],
 "metadata": {
  "kernelspec": {
   "display_name": "Python 3",
   "language": "python",
   "name": "python3"
  },
  "language_info": {
   "name": "python",
   "version": "3.11.7"
  }
 },
 "nbformat": 4,
 "nbformat_minor": 2
}
