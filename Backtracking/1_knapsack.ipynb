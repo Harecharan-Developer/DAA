{
 "cells": [
  {
   "cell_type": "code",
   "execution_count": 1,
   "metadata": {},
   "outputs": [
    {
     "name": "stdout",
     "output_type": "stream",
     "text": [
      "The maximum value for the 0/1 Knapsack problem is: 20\n"
     ]
    }
   ],
   "source": [
    "def knapsack_backtracking(weights, values, capacity):\n",
    "    n = len(weights)\n",
    "    max_value = [0]\n",
    "\n",
    "    def knapsack_util(curr_value, curr_weight, index):\n",
    "        if index == n:\n",
    "            max_value[0] = max(max_value[0], curr_value)\n",
    "            return\n",
    "\n",
    "        # Include the current item if it doesn't exceed the capacity\n",
    "        if curr_weight + weights[index] <= capacity:\n",
    "            knapsack_util(curr_value + values[index], curr_weight + weights[index], index + 1)\n",
    "\n",
    "        # Exclude the current item and move to the next one\n",
    "        knapsack_util(curr_value, curr_weight, index + 1)\n",
    "\n",
    "    knapsack_util(0, 0, 0)\n",
    "    return max_value[0]\n",
    "\n",
    "# Example usage\n",
    "weights = [1,2,3,4,5]\n",
    "values = [3, 4, 2, 10,7]\n",
    "capacity =10\n",
    "\n",
    "result = knapsack_backtracking(weights, values, capacity)\n",
    "print(f\"The maximum value for the 0/1 Knapsack problem is: {result}\")\n"
   ]
  }
 ],
 "metadata": {
  "kernelspec": {
   "display_name": "Python 3",
   "language": "python",
   "name": "python3"
  },
  "language_info": {
   "codemirror_mode": {
    "name": "ipython",
    "version": 3
   },
   "file_extension": ".py",
   "mimetype": "text/x-python",
   "name": "python",
   "nbconvert_exporter": "python",
   "pygments_lexer": "ipython3",
   "version": "3.11.7"
  }
 },
 "nbformat": 4,
 "nbformat_minor": 2
}
