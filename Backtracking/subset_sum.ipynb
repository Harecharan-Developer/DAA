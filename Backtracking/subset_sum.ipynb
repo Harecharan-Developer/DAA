{
 "cells": [
  {
   "cell_type": "code",
   "execution_count": 1,
   "metadata": {},
   "outputs": [
    {
     "name": "stdout",
     "output_type": "stream",
     "text": [
      "Output:\n",
      "[ 30 ] "
     ]
    }
   ],
   "source": [
    "\n",
    "has_valid_subset = False\n",
    "\n",
    "def print_subset_with_sum(current_index, array_size, input_set, target_sum, current_subset):\n",
    "    global has_valid_subset\n",
    "\n",
    "    # If the target_sum is zero, then there exists a subset\n",
    "    if target_sum == 0:\n",
    "        # Prints the valid subset\n",
    "        has_valid_subset = True\n",
    "        print(\"[\", end=\" \")\n",
    "        for element in current_subset:\n",
    "            print(element, end=\" \")\n",
    "        print(\"]\", end=\" \")\n",
    "        return\n",
    "\n",
    "    if current_index == array_size:\n",
    "        # Return if we have reached the end of the array\n",
    "        return\n",
    "\n",
    "    # Consider the current element if it is less than or equal to target_sum\n",
    "    if input_set[current_index] <= target_sum:\n",
    "        # Push the current element into the subset\n",
    "        current_subset.append(input_set[current_index])\n",
    "\n",
    "        # Recursive call for considering the current element\n",
    "        print_subset_with_sum(current_index + 1, array_size, input_set, target_sum - input_set[current_index], current_subset)\n",
    "\n",
    "        # Remove the last element after the recursive call to restore the subset's original configuration\n",
    "        current_subset.pop()\n",
    "\n",
    "    # Not considering the current element\n",
    "    print_subset_with_sum(current_index + 1, array_size, input_set, target_sum, current_subset)\n",
    "\n",
    "# Driver code\n",
    "if __name__ == \"__main__\":\n",
    "    # Test case\n",
    "    input_array = [3, 34, 4, 12, 5, 30]\n",
    "    target_sum_value = 30\n",
    "    array_size_value = len(input_array)\n",
    "    current_subset_list = []\n",
    "\n",
    "    print(\"Output:\")\n",
    "    print_subset_with_sum(0, array_size_value, input_array, target_sum_value, current_subset_list)\n",
    "\n",
    "    if not has_valid_subset:\n",
    "        print(\"There is no such subset.\")\n"
   ]
  },
  {
   "cell_type": "markdown",
   "metadata": {},
   "source": [
    "dont handle negative numbers"
   ]
  },
  {
   "cell_type": "code",
   "execution_count": 6,
   "metadata": {},
   "outputs": [
    {
     "name": "stdout",
     "output_type": "stream",
     "text": [
      "Valid subset: [4, 5]\n"
     ]
    }
   ],
   "source": [
    "def subset_sum_backtracking(input_array, target_sum):\n",
    "    def backtrack(current_index, current_sum, current_subset):\n",
    "        if current_sum == target_sum:\n",
    "            # Found a valid subset with the target sum\n",
    "            print(\"Valid subset:\", current_subset)\n",
    "            return\n",
    "\n",
    "        if current_index == len(input_array) or current_sum > target_sum:\n",
    "            # Reached the end of the array or the current sum exceeds the target sum\n",
    "            return\n",
    "\n",
    "        # Include the current element in the subset\n",
    "        current_subset.append(input_array[current_index])\n",
    "        backtrack(current_index + 1, current_sum + input_array[current_index], current_subset)\n",
    "        current_subset.pop()\n",
    "\n",
    "        # Exclude the current element from the subset\n",
    "        backtrack(current_index + 1, current_sum, current_subset)\n",
    "\n",
    "    # Start the backtracking process\n",
    "    subset = []\n",
    "    backtrack(0, 0, subset)\n",
    "\n",
    "# Test case\n",
    "input_array = [3, 34, 4, 12, 5]\n",
    "target_sum = 9\n",
    "\n",
    "subset_sum_backtracking(input_array, target_sum)\n"
   ]
  },
  {
   "cell_type": "markdown",
   "metadata": {},
   "source": [
    "below can handle negative numbers"
   ]
  },
  {
   "cell_type": "code",
   "execution_count": 8,
   "metadata": {},
   "outputs": [
    {
     "name": "stdout",
     "output_type": "stream",
     "text": [
      "Valid subset: [3, 4, 2]\n",
      "Valid subset: [12, -5, 2]\n"
     ]
    }
   ],
   "source": [
    "def subset_sum_backtracking(input_array, target_sum):\n",
    "    def backtrack(current_index, current_sum, current_subset):\n",
    "        if current_sum == target_sum:\n",
    "            # Found a valid subset with the target sum\n",
    "            print(\"Valid subset:\", current_subset)\n",
    "            return\n",
    "\n",
    "        if current_index == len(input_array):\n",
    "            # Reached the end of the array\n",
    "            return\n",
    "\n",
    "        # Include the current element in the subset\n",
    "        current_subset.append(input_array[current_index])\n",
    "        backtrack(current_index + 1, current_sum + input_array[current_index], current_subset)\n",
    "        current_subset.pop()\n",
    "\n",
    "        # Exclude the current element from the subset\n",
    "        backtrack(current_index + 1, current_sum, current_subset)\n",
    "\n",
    "    # Start the backtracking process\n",
    "    subset = []\n",
    "    backtrack(0, 0, subset)\n",
    "\n",
    "# Test case\n",
    "input_array = [3, 34, 4, 12, -5, 2]\n",
    "target_sum = 9\n",
    "\n",
    "subset_sum_backtracking(input_array, target_sum)\n"
   ]
  }
 ],
 "metadata": {
  "kernelspec": {
   "display_name": "Python 3",
   "language": "python",
   "name": "python3"
  },
  "language_info": {
   "codemirror_mode": {
    "name": "ipython",
    "version": 3
   },
   "file_extension": ".py",
   "mimetype": "text/x-python",
   "name": "python",
   "nbconvert_exporter": "python",
   "pygments_lexer": "ipython3",
   "version": "3.11.7"
  }
 },
 "nbformat": 4,
 "nbformat_minor": 2
}
