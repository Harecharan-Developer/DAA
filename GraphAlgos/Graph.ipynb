{
 "cells": [
  {
   "cell_type": "markdown",
   "metadata": {},
   "source": [
    "DFS\n"
   ]
  },
  {
   "cell_type": "code",
   "execution_count": null,
   "metadata": {},
   "outputs": [],
   "source": [
    "class Node:\n",
    "    def __init__(self,value,weight,list1):\n",
    "        self.value = value\n",
    "        self.weight=weight\n",
    "        self.children=list1\n",
    "        self.parent=None\n",
    "class Graph:\n",
    "    def __init__(self):\n",
    "\n",
    "    def insert(self,value,weight,list1):\n",
    "        node=Node(self,value,weight,list1)\n",
    "\n",
    "    "
   ]
  }
 ],
 "metadata": {
  "language_info": {
   "name": "python"
  }
 },
 "nbformat": 4,
 "nbformat_minor": 2
}
